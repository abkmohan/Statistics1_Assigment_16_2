{
 "cells": [
  {
   "cell_type": "code",
   "execution_count": 1,
   "metadata": {
    "collapsed": true
   },
   "outputs": [],
   "source": [
    "#Course: Data Science Masters\n",
    "#Title: Assignment 16.2            \n",
    "#Tool: Jupyter notebook \n",
    "#Author: Krishna A\n",
    "#Date: 18-05-2018 (DD/MM/YYYY)\n",
    "\n",
    "#Problem Statement \n",
    "#   Find the variance for the following set of data representing trees in California (heights in feet):\n",
    "#    3, 21, 98, 203, 17, 9\n",
    "\n",
    "import statistics\n",
    "\n",
    "arr_trees = [3, 21, 98, 203, 17, 9]\n",
    "\n",
    "fHeight_Var = statistics.variance(arr_trees)\n",
    "\n",
    "print(\"Variance in heights (ft) of trees in California: \", format(fHeight_Var, '.0f'))"
   ]
  },
  {
   "cell_type": "code",
   "execution_count": null,
   "metadata": {
    "collapsed": true
   },
   "outputs": [],
   "source": []
  }
 ],
 "metadata": {
  "kernelspec": {
   "display_name": "Python 3",
   "language": "python",
   "name": "python3"
  },
  "language_info": {
   "codemirror_mode": {
    "name": "ipython",
    "version": 3
   },
   "file_extension": ".py",
   "mimetype": "text/x-python",
   "name": "python",
   "nbconvert_exporter": "python",
   "pygments_lexer": "ipython3",
   "version": "3.6.3"
  }
 },
 "nbformat": 4,
 "nbformat_minor": 2
}
